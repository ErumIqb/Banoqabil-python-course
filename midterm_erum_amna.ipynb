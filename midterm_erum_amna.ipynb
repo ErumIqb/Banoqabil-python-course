{
  "nbformat": 4,
  "nbformat_minor": 0,
  "metadata": {
    "colab": {
      "provenance": []
    },
    "kernelspec": {
      "name": "python3",
      "display_name": "Python 3"
    },
    "language_info": {
      "name": "python"
    }
  },
  "cells": [
    {
      "cell_type": "code",
      "execution_count": 12,
      "metadata": {
        "colab": {
          "base_uri": "https://localhost:8080/"
        },
        "id": "lUjW05Spp2Ho",
        "outputId": "8543e4c1-c4a3-4ab6-af7e-a5cccf8c9b8a"
      },
      "outputs": [
        {
          "output_type": "stream",
          "name": "stdout",
          "text": [
            "enter the number 5\n",
            "enter the number 6\n",
            "this is number 5 \n",
            "this is number 6 \n",
            "this is the result 5 + 6 = 11\n"
          ]
        }
      ],
      "source": [
        "num1=input(\"enter the number 5\")\n",
        "num2=input(\"enter the number 6\")\n",
        "sum=(\"5 + 6 = 11\")\n",
        "print(\"this is number 5\", num1)\n",
        "print(\"this is number 6\", num2)\n",
        "print(\"this is the result\",sum)\n"
      ]
    },
    {
      "cell_type": "code",
      "source": [
        "num1=input(\"enter the number 25\")\n",
        "num2=input(\"enter the number 5\")\n",
        "division=(\"25/5 = 5\")\n",
        "print(\"this is the number 25\",num1)\n",
        "print(\"this is the number 5\",num2)\n",
        "print(\"this is the result\",division)\n"
      ],
      "metadata": {
        "id": "2muNudiByn66",
        "outputId": "cd908305-daf4-4e6b-82cb-d526987d8673",
        "colab": {
          "base_uri": "https://localhost:8080/"
        }
      },
      "execution_count": 13,
      "outputs": [
        {
          "output_type": "stream",
          "name": "stdout",
          "text": [
            "enter the number 25\n",
            "enter the number 5\n",
            "this is the number 25 \n",
            "this is the number 5 \n",
            "this is the result 25/5 = 5\n"
          ]
        }
      ]
    },
    {
      "cell_type": "code",
      "source": [
        "base=input(\"base is 10\")\n",
        "height=input(\"height is 15\")\n",
        "area=(\"(10*15)/2 = 75\n",
        "\")\n",
        "print(\"this the number 10\",base)\n",
        "print(\"this the number 15\",height)\n",
        "print(\"this is the result\",area)"
      ],
      "metadata": {
        "id": "qLMH2dXB2Kn6",
        "outputId": "b5176214-e119-4e4c-c555-241907839db7",
        "colab": {
          "base_uri": "https://localhost:8080/"
        }
      },
      "execution_count": 15,
      "outputs": [
        {
          "output_type": "stream",
          "name": "stdout",
          "text": [
            "base is 10\n",
            "height is 15\n",
            "this the number 10 \n",
            "this the number 15 \n",
            "this is the result (10*15)/2 = 75\n"
          ]
        }
      ]
    },
    {
      "cell_type": "code",
      "source": [
        "print(19)\n",
        "print(\"data type\",type(19))"
      ],
      "metadata": {
        "id": "7YfkpVvh5qU7",
        "outputId": "aa6c2c7b-e85a-4439-aa89-f2037d6ea330",
        "colab": {
          "base_uri": "https://localhost:8080/"
        }
      },
      "execution_count": 24,
      "outputs": [
        {
          "output_type": "stream",
          "name": "stdout",
          "text": [
            "19\n",
            "data type <class 'int'>\n"
          ]
        }
      ]
    },
    {
      "cell_type": "code",
      "source": [
        "print(16.5)\n",
        "print(\"data type\",type(16.5))"
      ],
      "metadata": {
        "id": "J_jIxAL065Sc",
        "outputId": "ba73954f-a895-44e1-8ce0-30cd6da23987",
        "colab": {
          "base_uri": "https://localhost:8080/"
        }
      },
      "execution_count": 25,
      "outputs": [
        {
          "output_type": "stream",
          "name": "stdout",
          "text": [
            "16.5\n",
            "data type <class 'float'>\n"
          ]
        }
      ]
    },
    {
      "cell_type": "code",
      "source": [
        "print(\"erum\")\n",
        "print(\"data type\",type(\"erum\"))"
      ],
      "metadata": {
        "id": "XHWW4uGd7VYw",
        "outputId": "dc9390bb-49c7-4167-d737-016dac79c83c",
        "colab": {
          "base_uri": "https://localhost:8080/"
        }
      },
      "execution_count": 28,
      "outputs": [
        {
          "output_type": "stream",
          "name": "stdout",
          "text": [
            "erum\n",
            "data type <class 'str'>\n"
          ]
        }
      ]
    },
    {
      "cell_type": "code",
      "source": [
        "print(2==2)\n",
        "print(\"data type\",type(2==2))"
      ],
      "metadata": {
        "id": "JC8HEDgO7uqp",
        "outputId": "6d473142-70e5-4f80-9a26-8a017c01858f",
        "colab": {
          "base_uri": "https://localhost:8080/"
        }
      },
      "execution_count": 29,
      "outputs": [
        {
          "output_type": "stream",
          "name": "stdout",
          "text": [
            "True\n",
            "data type <class 'bool'>\n"
          ]
        }
      ]
    }
  ]
}